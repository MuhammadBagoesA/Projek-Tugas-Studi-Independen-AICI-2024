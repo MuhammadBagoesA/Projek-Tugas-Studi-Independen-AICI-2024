{
 "cells": [
  {
   "cell_type": "code",
   "execution_count": 2,
   "metadata": {},
   "outputs": [
    {
     "name": "stdout",
     "output_type": "stream",
     "text": [
      "   Unnamed: 0  vendorid     tpep_pickup_datetime    tpep_dropoff_datetime  \\\n",
      "0           0         2  2019-11-08T10:14:52.000  2019-11-08T10:37:42.000   \n",
      "1           1         2  2019-11-08T10:50:54.000  2019-11-08T10:59:11.000   \n",
      "2           2         2  2019-11-08T10:08:31.000  2019-11-08T10:12:34.000   \n",
      "3           3         2  2019-11-08T10:13:59.000  2019-11-08T10:27:47.000   \n",
      "4           4         2  2019-11-08T10:34:08.000  2019-11-08T11:10:25.000   \n",
      "\n",
      "   passenger_count  trip_distance  ratecodeid store_and_fwd_flag  \\\n",
      "0                5           1.55           1                  N   \n",
      "1                5           0.84           1                  N   \n",
      "2                1           0.72           1                  N   \n",
      "3                1           1.62           1                  N   \n",
      "4                1           6.02           1                  N   \n",
      "\n",
      "   pulocationid  dolocationid  payment_type  fare_amount  extra  mta_tax  \\\n",
      "0           186            48             1         14.0    0.0      0.5   \n",
      "1            48           163             1          7.0    0.0      0.5   \n",
      "2           246           246             1          5.0    0.0      0.5   \n",
      "3           246           158             1         10.5    0.0      0.5   \n",
      "4           249           236             1         27.5    0.0      0.5   \n",
      "\n",
      "   tip_amount  tolls_amount  improvement_surcharge  total_amount  \\\n",
      "0        3.46           0.0                    0.3         20.76   \n",
      "1        2.06           0.0                    0.3         12.36   \n",
      "2        1.66           0.0                    0.3          9.96   \n",
      "3        2.76           0.0                    0.3         16.56   \n",
      "4        6.16           0.0                    0.3         36.96   \n",
      "\n",
      "   congestion_surcharge  \n",
      "0                   2.5  \n",
      "1                   2.5  \n",
      "2                   2.5  \n",
      "3                   2.5  \n",
      "4                   2.5  \n"
     ]
    }
   ],
   "source": [
    "#1)\n",
    "import pandas as pd\n",
    "\n",
    "df = pd.read_csv('2019_Yellow_Taxi_Trip_Data.csv')\n",
    "\n",
    "print(df.head())\n"
   ]
  },
  {
   "cell_type": "code",
   "execution_count": 5,
   "metadata": {},
   "outputs": [
    {
     "data": {
      "text/plain": [
       "(50000, 19)"
      ]
     },
     "execution_count": 5,
     "metadata": {},
     "output_type": "execute_result"
    }
   ],
   "source": [
    "#2)\n",
    "df.shape"
   ]
  },
  {
   "cell_type": "code",
   "execution_count": 6,
   "metadata": {},
   "outputs": [
    {
     "data": {
      "text/html": [
       "<div>\n",
       "<style scoped>\n",
       "    .dataframe tbody tr th:only-of-type {\n",
       "        vertical-align: middle;\n",
       "    }\n",
       "\n",
       "    .dataframe tbody tr th {\n",
       "        vertical-align: top;\n",
       "    }\n",
       "\n",
       "    .dataframe thead th {\n",
       "        text-align: right;\n",
       "    }\n",
       "</style>\n",
       "<table border=\"1\" class=\"dataframe\">\n",
       "  <thead>\n",
       "    <tr style=\"text-align: right;\">\n",
       "      <th></th>\n",
       "      <th>fare_amount</th>\n",
       "      <th>tip_amount</th>\n",
       "      <th>tolls_amount</th>\n",
       "      <th>total_amount</th>\n",
       "    </tr>\n",
       "  </thead>\n",
       "  <tbody>\n",
       "    <tr>\n",
       "      <th>count</th>\n",
       "      <td>50000.000000</td>\n",
       "      <td>50000.000000</td>\n",
       "      <td>50000.000000</td>\n",
       "      <td>50000.000000</td>\n",
       "    </tr>\n",
       "    <tr>\n",
       "      <th>mean</th>\n",
       "      <td>13.882040</td>\n",
       "      <td>2.325813</td>\n",
       "      <td>0.442890</td>\n",
       "      <td>19.776047</td>\n",
       "    </tr>\n",
       "    <tr>\n",
       "      <th>std</th>\n",
       "      <td>12.368066</td>\n",
       "      <td>2.922266</td>\n",
       "      <td>1.778999</td>\n",
       "      <td>15.302081</td>\n",
       "    </tr>\n",
       "    <tr>\n",
       "      <th>min</th>\n",
       "      <td>-130.000000</td>\n",
       "      <td>-2.200000</td>\n",
       "      <td>-21.620000</td>\n",
       "      <td>-151.920000</td>\n",
       "    </tr>\n",
       "    <tr>\n",
       "      <th>25%</th>\n",
       "      <td>7.000000</td>\n",
       "      <td>0.000000</td>\n",
       "      <td>0.000000</td>\n",
       "      <td>11.750000</td>\n",
       "    </tr>\n",
       "    <tr>\n",
       "      <th>50%</th>\n",
       "      <td>10.500000</td>\n",
       "      <td>1.960000</td>\n",
       "      <td>0.000000</td>\n",
       "      <td>15.340000</td>\n",
       "    </tr>\n",
       "    <tr>\n",
       "      <th>75%</th>\n",
       "      <td>16.000000</td>\n",
       "      <td>3.060000</td>\n",
       "      <td>0.000000</td>\n",
       "      <td>21.360000</td>\n",
       "    </tr>\n",
       "    <tr>\n",
       "      <th>max</th>\n",
       "      <td>432.000000</td>\n",
       "      <td>139.000000</td>\n",
       "      <td>37.000000</td>\n",
       "      <td>432.800000</td>\n",
       "    </tr>\n",
       "  </tbody>\n",
       "</table>\n",
       "</div>"
      ],
      "text/plain": [
       "        fare_amount    tip_amount  tolls_amount  total_amount\n",
       "count  50000.000000  50000.000000  50000.000000  50000.000000\n",
       "mean      13.882040      2.325813      0.442890     19.776047\n",
       "std       12.368066      2.922266      1.778999     15.302081\n",
       "min     -130.000000     -2.200000    -21.620000   -151.920000\n",
       "25%        7.000000      0.000000      0.000000     11.750000\n",
       "50%       10.500000      1.960000      0.000000     15.340000\n",
       "75%       16.000000      3.060000      0.000000     21.360000\n",
       "max      432.000000    139.000000     37.000000    432.800000"
      ]
     },
     "execution_count": 6,
     "metadata": {},
     "output_type": "execute_result"
    }
   ],
   "source": [
    "#3)\n",
    "df[['fare_amount', 'tip_amount', 'tolls_amount', 'total_amount']].describe()\n"
   ]
  },
  {
   "cell_type": "code",
   "execution_count": 8,
   "metadata": {},
   "outputs": [
    {
     "data": {
      "text/html": [
       "<div>\n",
       "<style scoped>\n",
       "    .dataframe tbody tr th:only-of-type {\n",
       "        vertical-align: middle;\n",
       "    }\n",
       "\n",
       "    .dataframe tbody tr th {\n",
       "        vertical-align: top;\n",
       "    }\n",
       "\n",
       "    .dataframe thead th {\n",
       "        text-align: right;\n",
       "    }\n",
       "</style>\n",
       "<table border=\"1\" class=\"dataframe\">\n",
       "  <thead>\n",
       "    <tr style=\"text-align: right;\">\n",
       "      <th></th>\n",
       "      <th>fare_amount</th>\n",
       "      <th>tip_amount</th>\n",
       "      <th>tolls_amount</th>\n",
       "      <th>total_amount</th>\n",
       "    </tr>\n",
       "  </thead>\n",
       "  <tbody>\n",
       "    <tr>\n",
       "      <th>33650</th>\n",
       "      <td>300.0</td>\n",
       "      <td>45.0</td>\n",
       "      <td>15.86</td>\n",
       "      <td>361.16</td>\n",
       "    </tr>\n",
       "  </tbody>\n",
       "</table>\n",
       "</div>"
      ],
      "text/plain": [
       "       fare_amount  tip_amount  tolls_amount  total_amount\n",
       "33650        300.0        45.0         15.86        361.16"
      ]
     },
     "execution_count": 8,
     "metadata": {},
     "output_type": "execute_result"
    }
   ],
   "source": [
    "#4)\n",
    "df_longest_trip = df[df['trip_distance'] == df['trip_distance'].max()][['fare_amount', 'tip_amount', 'tolls_amount', 'total_amount']]\n",
    "df_longest_trip.head()"
   ]
  },
  {
   "cell_type": "code",
   "execution_count": 14,
   "metadata": {},
   "outputs": [
    {
     "data": {
      "image/png": "[encoded data removed]",
      "text/plain": [
       "<Figure size 640x480 with 1 Axes>"
      ]
     },
     "metadata": {},
     "output_type": "display_data"
    }
   ],
   "source": [
    "#5)\n",
    "import matplotlib.pyplot as plt\n",
    "df = pd.read_csv('iris.csv')\n",
    "\n",
    "df.plot.scatter(x='PetalLengthCm', y='PetalWidthCm')\n",
    "\n",
    "plt.scatter(df['PetalLengthCm'], df['PetalWidthCm'], label='Petal Length vs Width')\n",
    "plt.xlabel('Petal Length')\n",
    "plt.ylabel('Petal Width')\n",
    "plt.legend()\n",
    "plt.show()\n"
   ]
  },
  {
   "cell_type": "code",
   "execution_count": 19,
   "metadata": {},
   "outputs": [
    {
     "data": {
      "image/png": "[encoded data removed]",
      "text/plain": [
       "<Figure size 640x480 with 1 Axes>"
      ]
     },
     "metadata": {},
     "output_type": "display_data"
    }
   ],
   "source": [
    "#6)\n",
    "df = pd.read_csv('iris.csv')\n",
    "\n",
    "df.boxplot(column='PetalWidthCm')\n",
    "\n",
    "for species in df['Species'].unique():\n",
    "    plt.scatter(df[df['Species'] == species]['Species'], df[df['Species'] == species]['PetalWidthCm'], alpha=0.5)\n",
    "plt.show()\n",
    "\n"
   ]
  }
 ],
 "metadata": {
  "kernelspec": {
   "display_name": "Python 3",
   "language": "python",
   "name": "python3"
  },
  "language_info": {
   "codemirror_mode": {
    "name": "ipython",
    "version": 3
   },
   "file_extension": ".py",
   "mimetype": "text/x-python",
   "name": "python",
   "nbconvert_exporter": "python",
   "pygments_lexer": "ipython3",
   "version": "3.10.4"
  }
 },
 "nbformat": 4,
 "nbformat_minor": 2
}
