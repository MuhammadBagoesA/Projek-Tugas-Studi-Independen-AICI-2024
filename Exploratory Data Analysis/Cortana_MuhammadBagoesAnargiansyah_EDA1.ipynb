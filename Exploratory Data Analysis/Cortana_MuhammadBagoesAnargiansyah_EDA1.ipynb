{
  "nbformat": 4,
  "nbformat_minor": 0,
  "metadata": {
    "colab": {
      "provenance": []
    },
    "kernelspec": {
      "name": "python3",
      "display_name": "Python 3"
    },
    "language_info": {
      "name": "python"
    }
  },
  "cells": [
    {
      "cell_type": "code",
      "execution_count": null,
      "metadata": {
        "colab": {
          "base_uri": "https://localhost:8080/"
        },
        "id": "rTW2wZENTgDO",
        "outputId": "1db08261-3136-40ce-ca66-4ea17bded27b"
      },
      "outputs": [
        {
          "output_type": "stream",
          "name": "stdout",
          "text": [
            "[ 5. 10. 15. 20. 25. 30. 35. 40. 45. 50.]\n"
          ]
        }
      ],
      "source": [
        "#1)\n",
        "import numpy as np\n",
        "\n",
        "vektor = np.linspace(5, 50, 10)\n",
        "\n",
        "print(vektor)"
      ]
    },
    {
      "cell_type": "code",
      "source": [
        "#2)\n",
        "matriks_identitas = np.eye(3)\n",
        "print(matriks_identitas)"
      ],
      "metadata": {
        "colab": {
          "base_uri": "https://localhost:8080/"
        },
        "id": "ORmiP6y_TtBf",
        "outputId": "ed8ea15d-0847-46fd-f6d9-d22c8523d13e"
      },
      "execution_count": null,
      "outputs": [
        {
          "output_type": "stream",
          "name": "stdout",
          "text": [
            "[[1. 0. 0.]\n",
            " [0. 1. 0.]\n",
            " [0. 0. 1.]]\n"
          ]
        }
      ]
    },
    {
      "cell_type": "code",
      "source": [
        "#3)\n",
        "x = np.random.randint(10, 31, size=(1, 5))\n",
        "rata_rata = np.mean(x)\n",
        "variansi = np.var(x)\n",
        "standar_deviasi = np.std(x)\n",
        "\n",
        "print(rata_rata, variansi, standar_deviasi)"
      ],
      "metadata": {
        "id": "B7RZBh-bT4Zh",
        "colab": {
          "base_uri": "https://localhost:8080/"
        },
        "outputId": "350fe924-e965-42c2-fbaa-d9327af7408f"
      },
      "execution_count": 6,
      "outputs": [
        {
          "output_type": "stream",
          "name": "stdout",
          "text": [
            "15.0 22.8 4.774934554525329\n"
          ]
        }
      ]
    },
    {
      "cell_type": "code",
      "source": [
        "#4)\n",
        "arr1 = np.array([3, 4])\n",
        "arr2 = np.array([1, 0])\n",
        "rata_rata = (arr1 + arr2) / 2\n",
        "\n",
        "print(rata_rata)"
      ],
      "metadata": {
        "id": "fz_RqtsMT__3",
        "colab": {
          "base_uri": "https://localhost:8080/"
        },
        "outputId": "b70fb393-41cf-4bc8-902d-ff5d67bce70b"
      },
      "execution_count": 8,
      "outputs": [
        {
          "output_type": "stream",
          "name": "stdout",
          "text": [
            "[2. 2.]\n"
          ]
        }
      ]
    },
    {
      "cell_type": "code",
      "source": [
        "#5)\n",
        "x = np.linspace(5, 50, 10)\n",
        "akar = np.sqrt(x)\n",
        "\n",
        "print(akar)"
      ],
      "metadata": {
        "colab": {
          "base_uri": "https://localhost:8080/"
        },
        "id": "65p4l0z3Uf7Z",
        "outputId": "3b02a3ab-57b7-4c16-cf36-fc8cbccece38"
      },
      "execution_count": 10,
      "outputs": [
        {
          "output_type": "stream",
          "name": "stdout",
          "text": [
            "[2.23606798 3.16227766 3.87298335 4.47213595 5.         5.47722558\n",
            " 5.91607978 6.32455532 6.70820393 7.07106781]\n"
          ]
        }
      ]
    }
  ]
}