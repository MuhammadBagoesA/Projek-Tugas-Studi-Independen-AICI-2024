{
 "cells": [
  {
   "cell_type": "markdown",
   "id": "governmental-hacker",
   "metadata": {},
   "source": [
    "## QUIZ - Strings"
   ]
  },
  {
   "cell_type": "markdown",
   "id": "checked-sauce",
   "metadata": {},
   "source": [
    "**Q 1:**\n",
    "\n",
    "Define a function named **only_first_letters**.\n",
    "\n",
    "It will take a string as the parameter.\n",
    "\n",
    "And it will convert all the first letters of each word into upper case.\n",
    "\n",
    "All the remaining letter will be lower case."
   ]
  },
  {
   "cell_type": "code",
   "execution_count": 1,
   "id": "sonic-touch",
   "metadata": {},
   "outputs": [
    {
     "name": "stdout",
     "output_type": "stream",
     "text": [
      "Python Is Great\n"
     ]
    }
   ],
   "source": [
    "# Q 1:\n",
    "\n",
    "# ---- your solution here ----\n",
    "def only_first_letters(input_string):\n",
    "    return input_string.title()\n",
    "\n",
    "# call the function you defined\n",
    "proper_text = only_first_letters('pyThon iS grEAt')\n",
    "print(proper_text)"
   ]
  },
  {
   "cell_type": "markdown",
   "id": "experimental-wrist",
   "metadata": {},
   "source": [
    "---"
   ]
  },
  {
   "cell_type": "markdown",
   "id": "checked-peninsula",
   "metadata": {},
   "source": [
    "**Q 2:**\n",
    "\n",
    "Define a function taking a text and a letter as parameters.\n",
    "\n",
    "The function name will be **count_the_letter**.\n",
    "\n",
    "Function will return the number (count) of occurrences of the letter in the text.\n",
    "\n",
    "**Hints:**\n",
    "* use built-in function\n",
    "* your function body should be one line of code\n",
    "* https://docs.python.org/3/library/stdtypes.html#string-methods"
   ]
  },
  {
   "cell_type": "code",
   "execution_count": 3,
   "id": "naughty-grenada",
   "metadata": {},
   "outputs": [
    {
     "name": "stdin",
     "output_type": "stream",
     "text": [
      "Please enter a text:  history\n",
      "Now a letter:  i\n"
     ]
    },
    {
     "data": {
      "text/plain": [
       "1"
      ]
     },
     "execution_count": 3,
     "metadata": {},
     "output_type": "execute_result"
    }
   ],
   "source": [
    "# Q 2:\n",
    "\n",
    "# ---- your solution here ----\n",
    "def count_the_letter(text, letter):\n",
    "    return text.count(letter)\n",
    "\n",
    "# call the function you defined\n",
    "text = input('Please enter a text: ')\n",
    "letter = input('Now a letter: ')\n",
    "count_the_letter(text, letter)"
   ]
  },
  {
   "cell_type": "markdown",
   "id": "adaptive-niger",
   "metadata": {},
   "source": [
    "---"
   ]
  },
  {
   "cell_type": "markdown",
   "id": "noted-instruction",
   "metadata": {},
   "source": [
    "**Q 3:**\n",
    "\n",
    "Define a function named **count_letters**.\n",
    "\n",
    "It will ask for sentence from the user.\n",
    "\n",
    "And it will count the occurrences of each letter and print it.\n",
    "\n",
    "**Hints:**\n",
    "* Do not count space character\n",
    "* Use the function you defined in Q2.\n",
    "\n",
    "<pre>\n",
    "Expected Output:\n",
    "\n",
    "Please enter a sentence:  pandas\n",
    "letter p: 1 time(s)\n",
    "letter a: 2 time(s)\n",
    "letter n: 1 time(s)\n",
    "letter d: 1 time(s)\n",
    "letter s: 1 time(s)\n",
    "</pre>"
   ]
  },
  {
   "cell_type": "code",
   "execution_count": 5,
   "id": "final-decision",
   "metadata": {},
   "outputs": [
    {
     "name": "stdin",
     "output_type": "stream",
     "text": [
      "Please enter a sentence:  history\n"
     ]
    },
    {
     "name": "stdout",
     "output_type": "stream",
     "text": [
      "letter y: 1 time(s)\n",
      "letter h: 1 time(s)\n",
      "letter o: 1 time(s)\n",
      "letter s: 1 time(s)\n",
      "letter r: 1 time(s)\n",
      "letter i: 1 time(s)\n",
      "letter t: 1 time(s)\n"
     ]
    }
   ],
   "source": [
    "# Q 3:\n",
    "\n",
    "# ---- your solution here ----\n",
    "def count_letters():\n",
    "    sentence = input(\"Please enter a sentence: \").replace(\" \", \"\")\n",
    "    unique_letters = set(sentence)\n",
    "    \n",
    "    for letter in unique_letters:\n",
    "        count = count_the_letter(sentence, letter)\n",
    "        print(f\"letter {letter}: {count} time(s)\")\n",
    "\n",
    "# call the function you defined\n",
    "count_letters()"
   ]
  },
  {
   "cell_type": "markdown",
   "id": "optional-pocket",
   "metadata": {},
   "source": [
    "---"
   ]
  },
  {
   "cell_type": "markdown",
   "id": "heated-falls",
   "metadata": {},
   "source": [
    "**Q 4:**\n",
    "\n",
    "Your text is:\n",
    "\n",
    "'Monday Tuesday Wednesday Thursday Friday'.\n",
    "\n",
    "Do slicing operations on this text and answer the following questions:\n",
    "\n",
    "<pre>\n",
    "* find the first 3 chars\n",
    "* find the chars between index 7 and 10 (inc.)\n",
    "* find the chars between index 2 and 12 (exc.)\n",
    "* find the chars at indices 3, 4 and 5\n",
    "</pre>"
   ]
  },
  {
   "cell_type": "code",
   "execution_count": 6,
   "id": "eligible-supervisor",
   "metadata": {},
   "outputs": [
    {
     "name": "stdout",
     "output_type": "stream",
     "text": [
      "the first 3 chars: Mon\n",
      "the chars between index 7 and 10 (inc.): Tues\n",
      "the chars between index 2 and 12 (exc.): nday Tuesd\n",
      "the chars at indices 3, 4 and 5: day\n"
     ]
    }
   ],
   "source": [
    "# Q 4:\n",
    "\n",
    "text = 'Monday Tuesday Wednesday Thursday Friday'\n",
    "\n",
    "\n",
    "# Given text\n",
    "text = 'Monday Tuesday Wednesday Thursday Friday'\n",
    "\n",
    "# find the first 3 chars\n",
    "first_3_chars = text[:3]\n",
    "\n",
    "# find the chars between index 7 and 10 (inc.)\n",
    "chars_7_to_10 = text[7:11]\n",
    "\n",
    "# find the chars between index 2 and 12 (exc.)\n",
    "chars_2_to_12 = text[2:12]\n",
    "\n",
    "# find the chars at indices 3, 4 and 5\n",
    "chars_3_4_5 = text[3:6]\n",
    "\n",
    "print(f\"the first 3 chars: {first_3_chars}\")\n",
    "print(f\"the chars between index 7 and 10 (inc.): {chars_7_to_10}\")\n",
    "print(f\"the chars between index 2 and 12 (exc.): {chars_2_to_12}\")\n",
    "print(f\"the chars at indices 3, 4 and 5: {chars_3_4_5}\")"
   ]
  },
  {
   "cell_type": "markdown",
   "id": "viral-federal",
   "metadata": {},
   "source": [
    "---"
   ]
  },
  {
   "attachments": {},
   "cell_type": "markdown",
   "id": "empty-notification",
   "metadata": {},
   "source": [
    "**Q 5:**\n",
    "\n",
    "Your text:\n",
    "\n",
    "'Monday Tuesday Wednesday'\n",
    "\n",
    "Do slicing operations on this text and answer the following questions:\n",
    "\n",
    "<pre>\n",
    "* find the last character\n",
    "* find the 3rd character from last\n",
    "* find last 3 characters\n",
    "* print the text in reverse order\n",
    "</pre>"
   ]
  },
  {
   "cell_type": "code",
   "execution_count": 8,
   "id": "hollywood-balloon",
   "metadata": {},
   "outputs": [
    {
     "name": "stdout",
     "output_type": "stream",
     "text": [
      "the last character: y\n",
      "the 3rd character from last: d\n",
      "last 3 characters: day\n",
      "the text in reverse order: yadsendeW yadseuT yadnoM\n"
     ]
    }
   ],
   "source": [
    "# Given text\n",
    "text = 'Monday Tuesday Wednesday'\n",
    "\n",
    "# find the last character\n",
    "last_char = text[-1]\n",
    "\n",
    "# find the 3rd character from last\n",
    "third_last_char = text[-3]\n",
    "\n",
    "# find last 3 characters\n",
    "last_3_chars = text[-3:]\n",
    "\n",
    "# print the text in reverse order\n",
    "reverse_text = text[::-1]\n",
    "\n",
    "print(f\"the last character: {last_char}\")\n",
    "print(f\"the 3rd character from last: {third_last_char}\")\n",
    "print(f\"last 3 characters: {last_3_chars}\")\n",
    "print(f\"the text in reverse order: {reverse_text}\")\n"
   ]
  },
  {
   "cell_type": "markdown",
   "id": "large-discretion",
   "metadata": {},
   "source": [
    "---"
   ]
  },
  {
   "attachments": {},
   "cell_type": "markdown",
   "id": "final-treaty",
   "metadata": {},
   "source": [
    "**Q 6:**\n",
    "\n",
    "Define a function named **split_email**.\n",
    "\n",
    "It will ask for an email from the user.\n",
    "\n",
    "And it will split the email into user name and domain name using **index**.\n",
    "\n",
    "**Hints:**\n",
    "* if the input doesn't include '@' char, return a text as 'Invalid email format.'\n",
    "\n",
    "<pre>\n",
    "Expected output:\n",
    "\n",
    "Please enter an email:  abc@acme.corp\n",
    "User Name: abc\n",
    "Domain: acme.corp\n",
    "</pre>"
   ]
  },
  {
   "cell_type": "code",
   "execution_count": 10,
   "id": "thrown-guitar",
   "metadata": {},
   "outputs": [
    {
     "name": "stdin",
     "output_type": "stream",
     "text": [
      "Please enter an email:  abc@gmail.corp\n"
     ]
    },
    {
     "name": "stdout",
     "output_type": "stream",
     "text": [
      "User Name: abc\n",
      "Domain: gmail.corp\n"
     ]
    }
   ],
   "source": [
    "# Q 6:\n",
    "\n",
    "# ---- your solution here ----\n",
    "def split_email():\n",
    "    email = input(\"Please enter an email: \")\n",
    "    \n",
    "    if '@' not in email:\n",
    "        return 'Invalid email format.'\n",
    "    \n",
    "    user_name, domain = email.split('@', 1)\n",
    "    print(f\"User Name: {user_name}\")\n",
    "    print(f\"Domain: {domain}\")\n",
    "\n",
    "# call the function you defined\n",
    "split_email()"
   ]
  },
  {
   "cell_type": "markdown",
   "id": "coordinate-stranger",
   "metadata": {},
   "source": [
    "---"
   ]
  },
  {
   "attachments": {},
   "cell_type": "markdown",
   "id": "lonely-vietnam",
   "metadata": {},
   "source": [
    "**Q 7:**\n",
    "\n",
    "Define a function named **reverse**.\n",
    "\n",
    "It will ask for a sentence from the user and return the reverse of this sentence.\n",
    "\n",
    "<pre>\n",
    "Expected Output:\n",
    "\n",
    "Please enter a sentence:  yesterday came suddenly\n",
    "'ylneddus emac yadretsey\n",
    "</pre>"
   ]
  },
  {
   "cell_type": "code",
   "execution_count": 11,
   "id": "parliamentary-grain",
   "metadata": {},
   "outputs": [
    {
     "name": "stdin",
     "output_type": "stream",
     "text": [
      "Please enter a sentence:  yesterday came suddenly\n"
     ]
    },
    {
     "data": {
      "text/plain": [
       "'ylneddus emac yadretsey'"
      ]
     },
     "execution_count": 11,
     "metadata": {},
     "output_type": "execute_result"
    }
   ],
   "source": [
    "# Q 7:\n",
    "\n",
    "# ---- your solution here ----\n",
    "def reverse():\n",
    "    sentence = input(\"Please enter a sentence: \")\n",
    "    return sentence[::-1]\n",
    "\n",
    "# call the function you defined\n",
    "reverse()"
   ]
  },
  {
   "cell_type": "markdown",
   "id": "affiliated-pizza",
   "metadata": {},
   "source": [
    "---"
   ]
  }
 ],
 "metadata": {
  "kernelspec": {
   "display_name": "Python 3 (ipykernel)",
   "language": "python",
   "name": "python3"
  },
  "language_info": {
   "codemirror_mode": {
    "name": "ipython",
    "version": 3
   },
   "file_extension": ".py",
   "mimetype": "text/x-python",
   "name": "python",
   "nbconvert_exporter": "python",
   "pygments_lexer": "ipython3",
   "version": "3.10.4"
  },
  "vscode": {
   "interpreter": {
    "hash": "14cedd64601303a286e3a433b5cc0c98a360830fb2e1f085b21dfecee6e5bb02"
   }
  }
 },
 "nbformat": 4,
 "nbformat_minor": 5
}
