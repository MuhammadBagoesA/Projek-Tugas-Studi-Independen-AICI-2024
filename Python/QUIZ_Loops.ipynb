{
 "cells": [
  {
   "cell_type": "markdown",
   "id": "durable-missile",
   "metadata": {},
   "source": [
    "## QUIZ - Loops"
   ]
  },
  {
   "cell_type": "markdown",
   "id": "equipped-brick",
   "metadata": {},
   "source": [
    "**Q 1:**\n",
    "\n",
    "Define a function that draw a square of stars on the screen.\n",
    "\n",
    "The function name will be **sqaure_of_stars_with_while**.\n",
    "\n",
    "The parameter will be number of stars in one side of square.\n",
    "\n",
    "Hints:\n",
    "* ask for number of stars from the user\n",
    "* use while loop\n",
    "\n",
    "<pre>\n",
    "Expected output for 5 stars:\n",
    "\n",
    "* * * * * \n",
    "* * * * * \n",
    "* * * * * \n",
    "* * * * * \n",
    "* * * * * \n",
    "</pre>"
   ]
  },
  {
   "cell_type": "code",
   "execution_count": 3,
   "id": "false-avatar",
   "metadata": {},
   "outputs": [
    {
     "name": "stdin",
     "output_type": "stream",
     "text": [
      "Enter the number of stars:  5\n"
     ]
    },
    {
     "name": "stdout",
     "output_type": "stream",
     "text": [
      "* * * * * \n",
      "* * * * * \n",
      "* * * * * \n",
      "* * * * * \n",
      "* * * * * \n"
     ]
    }
   ],
   "source": [
    "# Q 1:\n",
    "\n",
    "# ----- your solution here -----\n",
    "def square_of_stars_with_while(n):\n",
    "    i = 0\n",
    "    while i < n:\n",
    "        j = 0\n",
    "        while j < n:\n",
    "            print(\"*\", end=\" \")\n",
    "            j += 1\n",
    "        print()\n",
    "        i += 1\n",
    "# call the function you defined\n",
    "n = int(input(\"Enter the number of stars: \"))\n",
    "square_of_stars_with_while(n)"
   ]
  },
  {
   "cell_type": "markdown",
   "id": "disturbed-guidance",
   "metadata": {},
   "source": [
    "---"
   ]
  },
  {
   "cell_type": "markdown",
   "id": "failing-arrangement",
   "metadata": {},
   "source": [
    "**Q 2:**\n",
    "\n",
    "Define a function that draw a square of stars on the screen.\n",
    "\n",
    "The function name will be **sqaure_of_stars_with_for**.\n",
    "\n",
    "The parameter will be number of stars in one side of square.\n",
    "\n",
    "Hints:\n",
    "* ask for number of stars from the user\n",
    "* use for loop\n",
    "\n",
    "<pre>\n",
    "Expected output for 5 stars:\n",
    "\n",
    "* * * * * \n",
    "* * * * * \n",
    "* * * * * \n",
    "* * * * * \n",
    "* * * * * \n",
    "</pre>"
   ]
  },
  {
   "cell_type": "code",
   "execution_count": 5,
   "id": "overhead-distance",
   "metadata": {},
   "outputs": [
    {
     "name": "stdin",
     "output_type": "stream",
     "text": [
      "Enter the number of stars:  5\n"
     ]
    },
    {
     "name": "stdout",
     "output_type": "stream",
     "text": [
      "* * * * * \n",
      "* * * * * \n",
      "* * * * * \n",
      "* * * * * \n",
      "* * * * * \n"
     ]
    }
   ],
   "source": [
    "# Q 2:\n",
    "\n",
    "# ----- your solution here -----\n",
    "def square_of_stars_with_for(n):\n",
    "    for i in range(n):\n",
    "        for j in range(n):\n",
    "            print(\"*\", end=\" \")\n",
    "        print()\n",
    "# call the function you defined\n",
    "n = int(input(\"Enter the number of stars: \"))\n",
    "square_of_stars_with_for(n)"
   ]
  },
  {
   "cell_type": "markdown",
   "id": "little-credits",
   "metadata": {},
   "source": [
    "---"
   ]
  },
  {
   "cell_type": "markdown",
   "id": "rough-teddy",
   "metadata": {},
   "source": [
    "**Q 3:**\n",
    "\n",
    "Define a function that draw a right triangle (lower triangle) of stars on the screen.\n",
    "\n",
    "The function name will be **lower_triangle_with_while**.\n",
    "\n",
    "The parameter will be number of stars in one side of triangle.\n",
    "\n",
    "Hints:\n",
    "* ask for number of stars from the user\n",
    "* use while loop\n",
    "\n",
    "<pre>\n",
    "Expected output for 5 stars:\n",
    "(lower triangle)\n",
    "\n",
    "*\n",
    "* *\n",
    "* * *\n",
    "* * * * \n",
    "* * * * *\n",
    "</pre>"
   ]
  },
  {
   "cell_type": "code",
   "execution_count": 8,
   "id": "typical-stephen",
   "metadata": {},
   "outputs": [
    {
     "name": "stdin",
     "output_type": "stream",
     "text": [
      "Masukkan angka:  6\n"
     ]
    },
    {
     "name": "stdout",
     "output_type": "stream",
     "text": [
      "* \n",
      "* * \n",
      "* * * \n",
      "* * * * \n",
      "* * * * * \n",
      "* * * * * * \n"
     ]
    }
   ],
   "source": [
    "# Q 3:\n",
    "\n",
    "# ----- your solution here -----\n",
    "def lower_triangle_with_while(n):\n",
    "    i = 1\n",
    "    while i <= n:\n",
    "        j = 1\n",
    "        while j <= i:\n",
    "            print(\"*\", end=\" \")\n",
    "            j += 1\n",
    "        print()\n",
    "        i += 1\n",
    "# call the function you defined\n",
    "n = int(input(\"Masukkan angka: \"))\n",
    "lower_triangle_with_while(n)"
   ]
  },
  {
   "cell_type": "markdown",
   "id": "future-client",
   "metadata": {},
   "source": [
    "**Q 4:**\n",
    "\n",
    "Define a function that draw a right triangle (lower triangle) of stars on the screen.\n",
    "\n",
    "The function name will be **lower_triangle_with_for**.\n",
    "\n",
    "The parameter will be number of stars in one side of triangle.\n",
    "\n",
    "Hints:\n",
    "* ask for number of stars from the user\n",
    "* use for loop\n",
    "\n",
    "<pre>\n",
    "Expected output for 5 stars:\n",
    "(lower triangle)\n",
    "\n",
    "*\n",
    "* *\n",
    "* * *\n",
    "* * * * \n",
    "* * * * *\n",
    "</pre>"
   ]
  },
  {
   "cell_type": "code",
   "execution_count": 9,
   "id": "critical-reconstruction",
   "metadata": {},
   "outputs": [
    {
     "name": "stdin",
     "output_type": "stream",
     "text": [
      "Masukkan angka:  8\n"
     ]
    },
    {
     "name": "stdout",
     "output_type": "stream",
     "text": [
      "* \n",
      "* * \n",
      "* * * \n",
      "* * * * \n",
      "* * * * * \n",
      "* * * * * * \n",
      "* * * * * * * \n",
      "* * * * * * * * \n"
     ]
    }
   ],
   "source": [
    "# Q 4:\n",
    "\n",
    "# ----- your solution here -----\n",
    "def lower_triangle_with_while(n):\n",
    "    i = 1\n",
    "    while i <= n:\n",
    "        j = 1\n",
    "        while j <= i:\n",
    "            print(\"*\", end=\" \")\n",
    "            j += 1\n",
    "        print()\n",
    "        i += 1\n",
    "# call the function you defined\n",
    "n = int(input(\"Masukkan angka: \"))\n",
    "lower_triangle_with_while(n)"
   ]
  },
  {
   "cell_type": "markdown",
   "id": "indoor-private",
   "metadata": {},
   "source": [
    "---"
   ]
  },
  {
   "cell_type": "markdown",
   "id": "super-trading",
   "metadata": {},
   "source": [
    "**Q 5:**\n",
    "\n",
    "Define a function that draw a right triangle (upper triangle) of stars on the screen.\n",
    "\n",
    "The function name will be **upper_triangle_with_for**.\n",
    "\n",
    "The parameter will be number of stars in one side of triangle.\n",
    "\n",
    "Hints:\n",
    "* ask for number of stars from the user\n",
    "* use for loop\n",
    "\n",
    "<pre>\n",
    "Expected output for 5 stars:\n",
    "(upper triangle)\n",
    "\n",
    "* * * * * \n",
    "* * * * \n",
    "* * * \n",
    "* * \n",
    "* \n",
    "</pre>"
   ]
  },
  {
   "cell_type": "code",
   "execution_count": 11,
   "id": "powerful-journalist",
   "metadata": {},
   "outputs": [
    {
     "name": "stdin",
     "output_type": "stream",
     "text": [
      "Masukkan angka:  9\n"
     ]
    },
    {
     "name": "stdout",
     "output_type": "stream",
     "text": [
      "* * * * * * * * * \n",
      "* * * * * * * * \n",
      "* * * * * * * \n",
      "* * * * * * \n",
      "* * * * * \n",
      "* * * * \n",
      "* * * \n",
      "* * \n",
      "* \n"
     ]
    }
   ],
   "source": [
    "# Q 5:\n",
    "\n",
    "# ----- your solution here -----\n",
    "def upper_triangle_with_for(n):\n",
    "    for i in range(n, 0, -1):\n",
    "        for j in range(i):\n",
    "            print(\"*\", end=\" \")\n",
    "        print()\n",
    "# call the function you defined\n",
    "n = int(input(\"Masukkan angka: \"))\n",
    "upper_triangle_with_for(n)"
   ]
  },
  {
   "cell_type": "markdown",
   "id": "serial-verse",
   "metadata": {},
   "source": [
    "---"
   ]
  },
  {
   "cell_type": "markdown",
   "id": "blessed-working",
   "metadata": {},
   "source": [
    "**Q 6:**\n",
    "\n",
    "Define a function that draw an isosceles triangle of stars on the screen.\n",
    "\n",
    "The function name will be **isosceles_triangle_with_for**.\n",
    "\n",
    "The parameter will be number of stars in half of the long side of triangle.\n",
    "\n",
    "Hints:\n",
    "* ask for number of stars from the user\n",
    "* call previous functions for drawing\n",
    "\n",
    "<pre>\n",
    "Expected output for 5 stars:\n",
    "(upper triangle)\n",
    "\n",
    "* \n",
    "* * \n",
    "* * * \n",
    "* * * * \n",
    "* * * * * \n",
    "* * * * \n",
    "* * * \n",
    "* * \n",
    "* \n",
    "</pre>"
   ]
  },
  {
   "cell_type": "code",
   "execution_count": 13,
   "id": "alone-syria",
   "metadata": {},
   "outputs": [
    {
     "name": "stdin",
     "output_type": "stream",
     "text": [
      "Masukkan angka:  9\n"
     ]
    },
    {
     "name": "stdout",
     "output_type": "stream",
     "text": [
      "* \n",
      "* * \n",
      "* * * \n",
      "* * * * \n",
      "* * * * * \n",
      "* * * * * * \n",
      "* * * * * * * \n",
      "* * * * * * * * \n",
      "* * * * * * * * * \n",
      "* * * * * * * * \n",
      "* * * * * * * \n",
      "* * * * * * \n",
      "* * * * * \n",
      "* * * * \n",
      "* * * \n",
      "* * \n",
      "* \n"
     ]
    }
   ],
   "source": [
    "# Q 6:\n",
    "\n",
    "# ----- your solution here -----\n",
    "def lower_triangle_with_for(n):\n",
    "    for i in range(1, n + 1):\n",
    "        for j in range(i):\n",
    "            print(\"*\", end=\" \")\n",
    "        print()\n",
    "\n",
    "def upper_triangle_with_for(n):\n",
    "    for i in range(n - 1, 0, -1):\n",
    "        for j in range(i):\n",
    "            print(\"*\", end=\" \")\n",
    "        print()\n",
    "\n",
    "# Main function to draw the isosceles triangle\n",
    "def isosceles_triangle_with_for(n):\n",
    "    lower_triangle_with_for(n)\n",
    "    upper_triangle_with_for(n)\n",
    "\n",
    "# call the function you defined\n",
    "n = int(input(\"Masukkan angka: \"))\n",
    "isosceles_triangle_with_for(n)"
   ]
  },
  {
   "cell_type": "markdown",
   "id": "minute-romance",
   "metadata": {},
   "source": [
    "---"
   ]
  },
  {
   "cell_type": "markdown",
   "id": "ruled-meter",
   "metadata": {},
   "source": [
    "**Q 7:**\n",
    "\n",
    "Define a `bool` function which checks if the given number (parameter) is a prime number.\n",
    "\n",
    "The function name will be **is_prime** and it will return True if the number is prime, False otherwise."
   ]
  },
  {
   "cell_type": "code",
   "execution_count": 16,
   "id": "still-genome",
   "metadata": {},
   "outputs": [
    {
     "name": "stdin",
     "output_type": "stream",
     "text": [
      "Masukkan angka:  11\n"
     ]
    },
    {
     "data": {
      "text/plain": [
       "True"
      ]
     },
     "execution_count": 16,
     "metadata": {},
     "output_type": "execute_result"
    }
   ],
   "source": [
    "# Q 7:\n",
    "\n",
    "# ----- your solution here -----\n",
    "def is_prime(n):\n",
    "    if n < 2:\n",
    "        return False\n",
    "    \n",
    "    for i in range(2, int(n ** 0.5) + 1):\n",
    "        if n % i == 0:\n",
    "            return False\n",
    "    return True\n",
    "    \n",
    "# call the function you defined\n",
    "n = int(input(\"Masukkan angka: \"))\n",
    "is_prime(n)"
   ]
  },
  {
   "cell_type": "markdown",
   "id": "utility-reach",
   "metadata": {},
   "source": [
    "---"
   ]
  },
  {
   "cell_type": "markdown",
   "id": "sonic-rugby",
   "metadata": {},
   "source": [
    "**Q 8:**\n",
    "\n",
    "Define a function named **prime_factors**.\n",
    "\n",
    "The function will take an integer parameter and will find all the `prime factors` of that number."
   ]
  },
  {
   "cell_type": "code",
   "execution_count": 17,
   "id": "quiet-gothic",
   "metadata": {},
   "outputs": [
    {
     "name": "stdin",
     "output_type": "stream",
     "text": [
      "Masukkan angka:  20\n"
     ]
    },
    {
     "data": {
      "text/plain": [
       "[2, 2, 5]"
      ]
     },
     "execution_count": 17,
     "metadata": {},
     "output_type": "execute_result"
    }
   ],
   "source": [
    "# Q 8:\n",
    "\n",
    "# ----- your solution here -----\n",
    "def prime_factors(n):\n",
    "    factors = []\n",
    "    while n % 2 == 0:\n",
    "        factors.append(2)\n",
    "        n = n // 2\n",
    "    for i in range(3, int(n ** 0.5) + 1, 2):\n",
    "        while n % i == 0:\n",
    "            factors.append(i)\n",
    "            n = n // i\n",
    "    if n > 2:\n",
    "        factors.append(n)\n",
    "\n",
    "    return factors\n",
    "# call the function you defined\n",
    "n = int(input(\"Masukkan angka: \"))\n",
    "prime_factors(n)"
   ]
  },
  {
   "cell_type": "markdown",
   "id": "greenhouse-click",
   "metadata": {},
   "source": [
    "---"
   ]
  },
  {
   "cell_type": "markdown",
   "id": "cleared-woman",
   "metadata": {},
   "source": [
    "**Q 9:**\n",
    "\n",
    "Define a function named **trees_and_fives**.\n",
    "\n",
    "It will loop over the integers from 1 to 50, both included.\n",
    "\n",
    "It will print the numbers but:\n",
    "* If the number is a multiple of 3 it will print \"Trees\" instead of the number\n",
    "* If the number is a multiple of 5 it will print \"Fives\" instead of the number\n",
    "* If the number is a multiple of both 3 and 5 it will print \"Trees&Fives\" instead of the number"
   ]
  },
  {
   "cell_type": "code",
   "execution_count": 18,
   "id": "loving-margin",
   "metadata": {},
   "outputs": [
    {
     "name": "stdout",
     "output_type": "stream",
     "text": [
      "1\n",
      "2\n",
      "Trees\n",
      "4\n",
      "Fives\n",
      "Trees\n",
      "7\n",
      "8\n",
      "Trees\n",
      "Fives\n",
      "11\n",
      "Trees\n",
      "13\n",
      "14\n",
      "Trees&Fives\n",
      "16\n",
      "17\n",
      "Trees\n",
      "19\n",
      "Fives\n",
      "Trees\n",
      "22\n",
      "23\n",
      "Trees\n",
      "Fives\n",
      "26\n",
      "Trees\n",
      "28\n",
      "29\n",
      "Trees&Fives\n",
      "31\n",
      "32\n",
      "Trees\n",
      "34\n",
      "Fives\n",
      "Trees\n",
      "37\n",
      "38\n",
      "Trees\n",
      "Fives\n",
      "41\n",
      "Trees\n",
      "43\n",
      "44\n",
      "Trees&Fives\n",
      "46\n",
      "47\n",
      "Trees\n",
      "49\n",
      "Fives\n"
     ]
    }
   ],
   "source": [
    "# Q 9:\n",
    "\n",
    "# ----- your solution here -----\n",
    "def trees_and_fives():\n",
    "    # Loop through numbers from 1 to 50 (inclusive)\n",
    "    for i in range(1, 51):\n",
    "        if i % 3 == 0 and i % 5 == 0:\n",
    "            print(\"Trees&Fives\")\n",
    "        elif i % 3 == 0:\n",
    "            print(\"Trees\")\n",
    "        elif i % 5 == 0:\n",
    "            print(\"Fives\")\n",
    "        else:\n",
    "            print(i)\n",
    "# call the function you defined\n",
    "trees_and_fives()"
   ]
  }
 ],
 "metadata": {
  "kernelspec": {
   "display_name": "Python 3 (ipykernel)",
   "language": "python",
   "name": "python3"
  },
  "language_info": {
   "codemirror_mode": {
    "name": "ipython",
    "version": 3
   },
   "file_extension": ".py",
   "mimetype": "text/x-python",
   "name": "python",
   "nbconvert_exporter": "python",
   "pygments_lexer": "ipython3",
   "version": "3.10.4"
  },
  "vscode": {
   "interpreter": {
    "hash": "14cedd64601303a286e3a433b5cc0c98a360830fb2e1f085b21dfecee6e5bb02"
   }
  }
 },
 "nbformat": 4,
 "nbformat_minor": 5
}
