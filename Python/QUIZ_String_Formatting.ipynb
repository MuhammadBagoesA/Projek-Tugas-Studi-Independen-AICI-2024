{
 "cells": [
  {
   "cell_type": "markdown",
   "metadata": {},
   "source": [
    "## QUIZ - Format Operations"
   ]
  },
  {
   "cell_type": "code",
   "execution_count": 1,
   "metadata": {},
   "outputs": [
    {
     "name": "stdout",
     "output_type": "stream",
     "text": [
      "Sunday has 6 letters.\n"
     ]
    }
   ],
   "source": [
    "# Q 1:\n",
    "\"\"\"\n",
    "Define a function named 'day_names'.\n",
    "It will ask for a day name from the user.\n",
    "And will return a Tuple including the day name and number of letters in it.\n",
    "Ex: (Sunday, 6)\n",
    "\n",
    "Call this function and get the result Tuple, and then print the string below:\n",
    "'Sunday has 6 letters.'\n",
    "\n",
    "Hints:\n",
    "* use % operator\n",
    "\"\"\"\n",
    "\n",
    "# Q 1:\n",
    "\n",
    "# define the function\n",
    "# --- your solution here ---\n",
    "def day_names(day):\n",
    "    return (day, len(day))\n",
    "\n",
    "# call the function you defined\n",
    "# --- your solution here ---\n",
    "result_tuple = day_names(\"Sunday\")\n",
    "# print with % operator\n",
    "# --- your solution here ---\n",
    "print(\"%s has %d letters.\" % (result_tuple[0], result_tuple[1]))\n",
    "\n",
    "#--------------------------------------------------------------------------------------#"
   ]
  },
  {
   "cell_type": "code",
   "execution_count": 2,
   "metadata": {},
   "outputs": [
    {
     "name": "stdout",
     "output_type": "stream",
     "text": [
      "day: Monday, length: 6\n"
     ]
    }
   ],
   "source": [
    "# Q 2:\n",
    "\"\"\"\n",
    "Call the function in Q1 and print the result with str.format() as follows:\n",
    "'day: Monday, length: 6'\n",
    "\n",
    "Hints:\n",
    "•\tuse str.format()\n",
    "\"\"\"\n",
    "\n",
    "# Q 2:\n",
    "\n",
    "# call the day_names function\n",
    "# --- your solution here ---\n",
    "def day_names(day):\n",
    "    return (day, len(day))\n",
    "\n",
    "# print with str.format()\n",
    "# --- your solution here ---\n",
    "result_tuple = day_names(\"Monday\")\n",
    "print(\"day: {}, length: {}\".format(result_tuple[0], result_tuple[1]))\n",
    "#--------------------------------------------------------------------------------------#\n",
    "\n"
   ]
  },
  {
   "cell_type": "code",
   "execution_count": 3,
   "metadata": {},
   "outputs": [
    {
     "name": "stdout",
     "output_type": "stream",
     "text": [
      "day: Monday, length: 6\n"
     ]
    }
   ],
   "source": [
    "# Q 3:\n",
    "\"\"\"\n",
    "Call the function in Q1 and print the result with f-strings as follows:\n",
    "'day: Monday, length: 6'\n",
    "\n",
    "Hints:\n",
    "•\tuse f-string\n",
    "\"\"\"\n",
    "\n",
    "# Q 3:\n",
    "\n",
    "# call the day_names function\n",
    "# --- your solution here ---\n",
    "result_tuple = day_names(\"Monday\")\n",
    "\n",
    "# print with f-string\n",
    "# --- your solution here ---\n",
    "print(f\"day: {result_tuple[0]}, length: {result_tuple[1]}\")\n",
    "#--------------------------------------------------------------------------------------#\n"
   ]
  },
  {
   "cell_type": "code",
   "execution_count": 4,
   "metadata": {},
   "outputs": [
    {
     "name": "stdout",
     "output_type": "stream",
     "text": [
      "The capital city of Germany is Berlin\n"
     ]
    }
   ],
   "source": [
    "# Q 4:\n",
    "\"\"\"\n",
    "Use the capitals dictionary and str.format() to print as follows:\n",
    "\"The capital city of Germany is Berlin\"\n",
    "Both 'Germany' and 'Berlin' will be variables.\n",
    "\"\"\"\n",
    "\n",
    "# Q 4:\n",
    "\n",
    "# --- your solution here ---\n",
    "capitals = {'Germany': 'Berlin', 'France': 'Paris', 'Italy': 'Rome'}\n",
    "country = 'Germany'\n",
    "capital = capitals[country]\n",
    "print(\"The capital city of {} is {}\".format(country, capital))\n",
    "\n",
    "#--------------------------------------------------------------------------------------#"
   ]
  },
  {
   "cell_type": "code",
   "execution_count": 5,
   "metadata": {},
   "outputs": [
    {
     "name": "stdout",
     "output_type": "stream",
     "text": [
      "The capital city of UK is London\n"
     ]
    }
   ],
   "source": [
    "# Q 5:\n",
    "\"\"\"\n",
    "Use the capitals dictionary and f-strings to print as follows:\n",
    "\"The capital city of UK is London\"\n",
    "Both 'UK' and 'London' will be variables.\n",
    "\"\"\"\n",
    "\n",
    "# Q 5:\n",
    "capitals = {'Germany': 'Berlin', 'France': 'Paris', 'Italy': 'Rome', 'UK': 'London'}\n",
    "country = 'UK'\n",
    "capital = capitals[country]\n",
    "print(f\"The capital city of {country} is {capital}\")\n",
    "# --- your solution here ---\n",
    "\n",
    "\n",
    "#--------------------------------------------------------------------------------------#"
   ]
  },
  {
   "cell_type": "code",
   "execution_count": null,
   "metadata": {},
   "outputs": [],
   "source": []
  }
 ],
 "metadata": {
  "kernelspec": {
   "display_name": "Python 3 (ipykernel)",
   "language": "python",
   "name": "python3"
  },
  "language_info": {
   "codemirror_mode": {
    "name": "ipython",
    "version": 3
   },
   "file_extension": ".py",
   "mimetype": "text/x-python",
   "name": "python",
   "nbconvert_exporter": "python",
   "pygments_lexer": "ipython3",
   "version": "3.10.4"
  },
  "vscode": {
   "interpreter": {
    "hash": "14cedd64601303a286e3a433b5cc0c98a360830fb2e1f085b21dfecee6e5bb02"
   }
  }
 },
 "nbformat": 4,
 "nbformat_minor": 4
}
