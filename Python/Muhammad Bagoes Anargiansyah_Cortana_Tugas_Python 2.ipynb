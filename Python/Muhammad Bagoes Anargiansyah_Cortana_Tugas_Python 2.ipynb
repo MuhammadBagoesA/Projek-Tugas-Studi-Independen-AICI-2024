{
 "cells": [
  {
   "cell_type": "markdown",
   "id": "fb34ac0f-6937-4dd7-a4b0-671a2fa7c52d",
   "metadata": {},
   "source": [
    "#### Nama     : Muhammad Bagoes Anargiansyah\n",
    "#### Kelas    : Cortana\n",
    "#### Instansi : Universitas Negeri Surabaya"
   ]
  },
  {
   "cell_type": "code",
   "execution_count": 9,
   "id": "8c9d4381-d39d-46ed-b0fc-af7d32051128",
   "metadata": {},
   "outputs": [
    {
     "name": "stdout",
     "output_type": "stream",
     "text": [
      "Hello World\n"
     ]
    }
   ],
   "source": [
    "#1\n",
    "print(\"Hello World\")"
   ]
  },
  {
   "cell_type": "code",
   "execution_count": 10,
   "id": "d9f80ba9-376d-4973-a2d1-6ae2f32157e8",
   "metadata": {},
   "outputs": [
    {
     "name": "stdout",
     "output_type": "stream",
     "text": [
      "Alice's Adventures\n"
     ]
    }
   ],
   "source": [
    "#2\n",
    "print(\"Alice's Adventures\")"
   ]
  },
  {
   "cell_type": "code",
   "execution_count": 11,
   "id": "7ecf7e53-b1de-47d2-a6f3-d63f548bc4a0",
   "metadata": {},
   "outputs": [],
   "source": [
    "#3\n",
    "nama_peserta  = \"Muhammad Bagoes Anargiansyah\""
   ]
  },
  {
   "cell_type": "code",
   "execution_count": 12,
   "id": "521570b8-6bff-4ff9-b67d-4a45ecacbe8b",
   "metadata": {},
   "outputs": [
    {
     "name": "stdout",
     "output_type": "stream",
     "text": [
      "70\n"
     ]
    }
   ],
   "source": [
    "#4\n",
    "x = 20\n",
    "y = 50\n",
    "z = x+y\n",
    "print(z)"
   ]
  },
  {
   "cell_type": "code",
   "execution_count": 13,
   "id": "7cd79b73-60c7-49c3-9d69-75de61196666",
   "metadata": {},
   "outputs": [
    {
     "name": "stdout",
     "output_type": "stream",
     "text": [
      "30\n"
     ]
    }
   ],
   "source": [
    "#5\n",
    "def get_max(x, y, z):\n",
    "    return(max(x, y, z))\n",
    "    # boleh pake build in function kan ya kak?:))\n",
    "\n",
    "print(get_max(10, 20, 30))"
   ]
  },
  {
   "cell_type": "code",
   "execution_count": 21,
   "id": "26d48831-f61c-4e37-a247-6fda2f69e461",
   "metadata": {},
   "outputs": [
    {
     "name": "stdout",
     "output_type": "stream",
     "text": [
      "okee loh  \n"
     ]
    }
   ],
   "source": [
    "#6\n",
    "def strip_and_lower(kata):\n",
    "    kata = kata.strip(\"\").lower()\n",
    "    return kata\n",
    "\n",
    "print(strip_and_lower(\"Okee LoH  \"))"
   ]
  },
  {
   "cell_type": "code",
   "execution_count": 26,
   "id": "5e3cf02a-94f8-4b18-83da-f4087b265f6b",
   "metadata": {},
   "outputs": [
    {
     "name": "stdout",
     "output_type": "stream",
     "text": [
      "4.0\n"
     ]
    }
   ],
   "source": [
    "#7\n",
    "import math\n",
    "\n",
    "def square_root(angka):\n",
    "    return math.sqrt(angka)\n",
    "\n",
    "print(square_root(16))"
   ]
  }
 ],
 "metadata": {
  "kernelspec": {
   "display_name": "Python 3 (ipykernel)",
   "language": "python",
   "name": "python3"
  },
  "language_info": {
   "codemirror_mode": {
    "name": "ipython",
    "version": 3
   },
   "file_extension": ".py",
   "mimetype": "text/x-python",
   "name": "python",
   "nbconvert_exporter": "python",
   "pygments_lexer": "ipython3",
   "version": "3.10.4"
  }
 },
 "nbformat": 4,
 "nbformat_minor": 5
}
