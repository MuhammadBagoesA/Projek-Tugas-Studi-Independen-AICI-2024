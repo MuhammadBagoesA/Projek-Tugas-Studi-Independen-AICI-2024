{
 "cells": [
  {
   "cell_type": "markdown",
   "id": "serious-hanging",
   "metadata": {},
   "source": [
    "## QUIZ - Conditional Statements - SOLUTION"
   ]
  },
  {
   "cell_type": "markdown",
   "id": "judicial-retreat",
   "metadata": {},
   "source": [
    "**Q 1:**\n",
    "\n",
    "Ask the user to enter a number.\n",
    "\n",
    "Find out if this number is Odd or Even."
   ]
  },
  {
   "cell_type": "code",
   "execution_count": 24,
   "id": "saved-authority",
   "metadata": {},
   "outputs": [
    {
     "name": "stdin",
     "output_type": "stream",
     "text": [
      "Please enter a number:  8\n"
     ]
    },
    {
     "name": "stdout",
     "output_type": "stream",
     "text": [
      "8 is EVEN\n"
     ]
    }
   ],
   "source": [
    "# Q 1:\n",
    "\n",
    "#--- your solution here --- #    \n",
    "angka = input(\"Please enter a number: \")\n",
    "if int(angka)%2 == 0:\n",
    "    print(f\"{angka} is EVEN\")\n",
    "elif int(angka)%2 == 1:\n",
    "    print(f\"{angka} is ODD\")"
   ]
  },
  {
   "cell_type": "markdown",
   "id": "introductory-bulgaria",
   "metadata": {},
   "source": [
    "**Q 2:**\n",
    "\n",
    "Ask for a letter from the user.\n",
    "\n",
    "Find out if it is a vowel or consonant."
   ]
  },
  {
   "cell_type": "code",
   "execution_count": 29,
   "id": "expected-zambia",
   "metadata": {},
   "outputs": [
    {
     "name": "stdin",
     "output_type": "stream",
     "text": [
      "Please enter a letter:  t\n"
     ]
    },
    {
     "name": "stdout",
     "output_type": "stream",
     "text": [
      "t is consonant\n"
     ]
    }
   ],
   "source": [
    "# Q 2:\n",
    "\n",
    "# --- your solution here --- #    \n",
    "letter = input(\"Please enter a letter: \")\n",
    "vowel = [\"a\", \"i\", \"u\", \"e\", \"o\"]\n",
    "if letter in vowel:\n",
    "    print(f\"{letter} is vowel\")\n",
    "elif letter not in vowel:\n",
    "    print(f\"{letter} is consonant\")"
   ]
  },
  {
   "cell_type": "markdown",
   "id": "logical-airport",
   "metadata": {},
   "source": [
    "---"
   ]
  },
  {
   "cell_type": "markdown",
   "id": "experimental-swedish",
   "metadata": {},
   "source": [
    "**Q 3:**\n",
    "\n",
    "Define a function with name **which_shape**.\n",
    "\n",
    "The function will ask a number from the user.\n",
    "\n",
    "It will decide the name of the shape according to that number, and return that name.\n",
    "\n",
    "Sides & Shapes:\n",
    "* 3 - Triangle\n",
    "* 4 - Rectangle\n",
    "* 5 - Pentagon\n",
    "* 6 - Hexagon\n",
    "* 7 and more - Polygon"
   ]
  },
  {
   "cell_type": "code",
   "execution_count": 35,
   "id": "soviet-storage",
   "metadata": {},
   "outputs": [
    {
     "name": "stdin",
     "output_type": "stream",
     "text": [
      "Please enter the number of sides:  8\n"
     ]
    },
    {
     "name": "stdout",
     "output_type": "stream",
     "text": [
      "Polygon\n"
     ]
    }
   ],
   "source": [
    "# Q 3:\n",
    "\n",
    "# --- your solution here --- #    \n",
    "def which_shape():\n",
    "    number = int(input(\"Please enter the number of sides: \"))\n",
    "    if number == 3:\n",
    "        shape = \"Triangle\"\n",
    "    elif number == 4:\n",
    "        shape = \"Rectangle\"\n",
    "    elif number == 5:\n",
    "        shape = \"Pentagon\"\n",
    "    elif number == 6:\n",
    "        shape = \"Hexagon\"\n",
    "    elif number > 6:\n",
    "        shape = \"Polygon\"\n",
    "    else:\n",
    "        shape = \"Not defined\"\n",
    "    return shape\n",
    "# call the function you defined\n",
    "shape = which_shape()\n",
    "print(shape)"
   ]
  },
  {
   "cell_type": "markdown",
   "id": "close-triumph",
   "metadata": {},
   "source": [
    "---"
   ]
  },
  {
   "cell_type": "markdown",
   "id": "built-proposition",
   "metadata": {},
   "source": [
    "**Q 4:**\n",
    "\n",
    "Define a function to print the number of days in the given month.\n",
    "\n",
    "Function name will be **number_of_days_in_month**.\n",
    "\n",
    "It will ask month name from the user.\n",
    "\n",
    "Number of Days in Gregorian Calendar:\n",
    "* January - 31\n",
    "* February - 28 or 29\n",
    "* March - 31\n",
    "* April - 30\n",
    "* May - 31\n",
    "* June - 30\n",
    "* July - 31\n",
    "* August - 31\n",
    "* September - 30\n",
    "* October - 31\n",
    "* November - 30\n",
    "* December - 31\n",
    "\n",
    "<pre>\n",
    "Expected Output:\n",
    "Please enter the month name:  October\n",
    "'There are 31 days in October'\n",
    "</pre>"
   ]
  },
  {
   "cell_type": "code",
   "execution_count": 38,
   "id": "intimate-antigua",
   "metadata": {},
   "outputs": [
    {
     "name": "stdin",
     "output_type": "stream",
     "text": [
      "Please enter the month name:  july\n"
     ]
    },
    {
     "name": "stdout",
     "output_type": "stream",
     "text": [
      "There are 31 days in july\n"
     ]
    }
   ],
   "source": [
    "# Q 4:\n",
    "\n",
    "# --- your solution here --- #    \n",
    "def number_of_days_in_month():\n",
    "    _31_day = [\"january\",\"march\", \"may\", \"july\", \"august\", \"october\", \"december\"]\n",
    "    _30_day = [\"april\", \"june\", \"september\", \"november\"]\n",
    "    month = input(\"Please enter the month name: \")\n",
    "    if month in _31_day:\n",
    "        print(f\"There are 31 days in {month}\")\n",
    "    elif month in _30_day:\n",
    "        print(f\"There are 30 days in {month}\")\n",
    "    else:\n",
    "        print(f\"There are 28 or 29 days in {month}\")\n",
    "# call the function you defined\n",
    "number_of_days_in_month()"
   ]
  },
  {
   "cell_type": "markdown",
   "id": "sonic-right",
   "metadata": {},
   "source": [
    "---"
   ]
  },
  {
   "cell_type": "markdown",
   "id": "southwest-australia",
   "metadata": {},
   "source": [
    "**Q 5:**\n",
    "\n",
    "Define a function to ask the length of sides of a triangle.\n",
    "\n",
    "Function name is **name_the_triangle**.\n",
    "\n",
    "The function will decide the type of triangle, according to the length of the sides.\n",
    "\n",
    "And will return its name.\n",
    "\n",
    "Types of Triangles:\n",
    "* Equilateral: three equal sides\n",
    "* Isosceles: two equal sides\n",
    "* Scalene: no equal sides"
   ]
  },
  {
   "cell_type": "code",
   "execution_count": 44,
   "id": "korean-condition",
   "metadata": {},
   "outputs": [
    {
     "name": "stdin",
     "output_type": "stream",
     "text": [
      "Length for the first side: 20\n",
      "Length for the second side: 20\n",
      "Length for the third side: 50\n"
     ]
    },
    {
     "name": "stdout",
     "output_type": "stream",
     "text": [
      "Isosceles\n"
     ]
    }
   ],
   "source": [
    "# Q 5:\n",
    "\n",
    "# --- your solution here --- #    \n",
    "def name_the_triangle():\n",
    "    side1 = int(input(\"Length for the first side:\"))\n",
    "    side2 = int(input(\"Length for the second side:\"))\n",
    "    side3 = int(input(\"Length for the third side:\"))\n",
    "    if side1 == side2 and side1 ==side3:\n",
    "        return \"Equilateral\"\n",
    "    elif side1 == side2 or side1 == side3:\n",
    "        return \"Isosceles\"\n",
    "    else:\n",
    "        return \"Scalene\"\n",
    "# call the function you defined\n",
    "print(name_the_triangle())"
   ]
  },
  {
   "cell_type": "markdown",
   "id": "german-vinyl",
   "metadata": {},
   "source": [
    "---"
   ]
  },
  {
   "cell_type": "markdown",
   "id": "separated-hunger",
   "metadata": {},
   "source": [
    "**Q 6:**\n",
    "\n",
    "Define a function that decides what to wear, according to the month and number of the day.\n",
    "\n",
    "Function name will be **what_to_wear** and it will ask for the name of the month and day number.\n",
    "\n",
    "According to month and day number, it will check for the season and with season, it will return what to wear.\n",
    "\n",
    "There are 4 months which are in between the seasons; March, June, September and December. For these months, the first 15 days will be in the previous season. For example for March, it will be Winter until 15th. And it will be Spring after the 15th. \n",
    "\n",
    "<pre>\n",
    "Seasons and Garments \n",
    "Spring: Shirt\n",
    "Summer: T-shirt\n",
    "Autumn: Sweater\n",
    "Winter: Coat\n",
    "\n",
    "Expected Output:\n",
    "Enter month name:  March\n",
    "Enter day number:  24\n",
    "In March, day 24 we wear Shirt\n",
    "</pre>"
   ]
  },
  {
   "cell_type": "code",
   "execution_count": 64,
   "id": "split-resistance",
   "metadata": {
    "scrolled": true
   },
   "outputs": [
    {
     "name": "stdin",
     "output_type": "stream",
     "text": [
      "Enter month name:  january\n",
      "Enter day number:  15\n"
     ]
    },
    {
     "name": "stdout",
     "output_type": "stream",
     "text": [
      "In january, day 15 we wear Coat\n"
     ]
    }
   ],
   "source": [
    "# Q 6:\n",
    "\n",
    "# --- your solution here --- #         \n",
    "def what_to_wear():\n",
    "    season = {\"spring\" : [\"april\", \"mei\"],\n",
    "            \"summer\" : [\"juli\", \"august\"],\n",
    "            \"autumn\" : [\"oktober\", \"november\"],\n",
    "            \"winter\" : [\"january\", \"february\"],\n",
    "            \"inter_season\" : [\"march\", \"June\", \"September\", \"December\"]}  \n",
    "    wear = [\"Shirt\",\"T-Shirt\", \"Sweater\", \"Coat\"]\n",
    "    month = input(\"Enter month name: \")\n",
    "    day = int(input(\"Enter day number: \"))\n",
    "    if month in season[\"spring\"]:\n",
    "        print(f\"In {month}, day {day} we wear {wear[0]}\")\n",
    "    elif month in season[\"summer\"]:\n",
    "        print(f\"In {month}, day {day} we wear {wear[1]}\")\n",
    "    elif month in season[\"autumn\"]:\n",
    "        print(f\"In {month}, day {day} we wear {wear[2]}\")\n",
    "    elif month in season[\"winter\"]:\n",
    "        print(f\"In {month}, day {day} we wear {wear[3]}\")\n",
    "    elif month in season[\"inter_season\"]:\n",
    "        if month == season[\"inter_season\"][0] and day <= 15:\n",
    "            print(f\"In {month}, day {day} we wear {wear[3]}\")\n",
    "        elif month == season[\"inter_season\"][0]:\n",
    "            print(f\"In {month}, day {day} we wear {wear[0]}\")\n",
    "        elif month == season[\"inter_season\"][1] and day <= 15:\n",
    "            print(f\"In {month}, day {day} we wear {wear[0]}\")\n",
    "        elif month == season[\"inter_season\"][1]:\n",
    "            print(f\"In {month}, day {day} we wear {wear[1]}\")\n",
    "        elif month == season[\"inter_season\"][2] and day <= 15:\n",
    "            print(f\"In {month}, day {day} we wear {wear[1]}\")\n",
    "        elif month == season[\"inter_season\"][2]:\n",
    "            print(f\"In {month}, day {day} we wear {wear[2]}\")\n",
    "        elif month == season[\"inter_season\"][3] and day <= 15:\n",
    "            print(f\"In {month}, day {day} we wear {wear[2]}\")\n",
    "        elif month == season[\"inter_season\"][3]:\n",
    "            print(f\"In {month}, day {day} we wear {wear[3]}\")\n",
    "what_to_wear()"
   ]
  },
  {
   "cell_type": "markdown",
   "id": "electric-suicide",
   "metadata": {},
   "source": [
    "---"
   ]
  },
  {
   "cell_type": "markdown",
   "id": "wrapped-fitting",
   "metadata": {},
   "source": [
    "**Q 7:**\n",
    "\n",
    "Define a function named **which_day**.\n",
    "\n",
    "It will ask for any of the capital letters: F, M, S, T, W\n",
    "\n",
    "These are the first letters of the day names in a week.\n",
    "\n",
    "The function will decide which day by the first letter.\n",
    "\n",
    "It may ask additional questions if needed?\n",
    "\n",
    "Days:\n",
    "* Monday, Tuesday, Wednesday, Thursday, Friday, Saturday, Sunday\n",
    "\n",
    "Additional questions by letter:\n",
    "* S: \n",
    "    * \"first day of weekend\" or \n",
    "    * \"last day of weekend\"\n",
    "* T: \n",
    "    * \"at the beginning of the week\" or \n",
    "    * \"at the middle of the week\"\n",
    "    \n",
    "<pre>\n",
    "Expected Output:\n",
    "Please enter any of the capital letters: F, M, S, T, W :  T\n",
    "Is it at the beginning of the week? Yes - No? No\n",
    "Your day: THURSDAY\n",
    "</pre>"
   ]
  },
  {
   "cell_type": "code",
   "execution_count": 63,
   "id": "blind-teaching",
   "metadata": {},
   "outputs": [
    {
     "name": "stdin",
     "output_type": "stream",
     "text": [
      "Please enter any of the capital letters: F, M, S, T, W :  f\n"
     ]
    },
    {
     "name": "stdout",
     "output_type": "stream",
     "text": [
      "Your day: Friday\n"
     ]
    }
   ],
   "source": [
    "# Q 7:\n",
    "\n",
    "# --- your solution here --- #    \n",
    "def which_day():\n",
    "    letter = input(\"Please enter any of the capital letters: F, M, S, T, W : \").upper()\n",
    "    dayletter = [\"M\", \"T\", \"W\", \"F\", \"S\"]\n",
    "    day = [\"Monday\", \"Tuesday\", \"Wednesday\", \"Thursday\", \"Friday\", \"Saturday\", \"Sunday\"]\n",
    "    if letter == dayletter[0]:\n",
    "        print(f\"Your day: {day[0]}\")\n",
    "    elif letter == dayletter[1]:\n",
    "        beginning = upper(input(\"Is it at the beginning of the week?\"))\n",
    "        if beginning == \"yes\":\n",
    "            print(f\"Your day: {day[1]}\")\n",
    "        else:\n",
    "            print(f\"Your day: {day[3]}\")\n",
    "    elif letter == dayletter[2]:\n",
    "        print(f\"Your day: {day[2]}\")\n",
    "    elif letter == dayletter[3]:\n",
    "        print(f\"Your day: {day[4]}\")\n",
    "    elif letter == dayletter[4]:\n",
    "        beginning = upper(input(\"Is it at the beginning of the weekend?\"))\n",
    "        if beginning == \"yes\":\n",
    "            print(f\"Your day: {day[5]}\")\n",
    "        else:\n",
    "            print(f\"Your day: {day[6]}\")\n",
    "# call the function you defined\n",
    "which_day()"
   ]
  },
  {
   "cell_type": "markdown",
   "id": "general-survey",
   "metadata": {},
   "source": [
    "---"
   ]
  },
  {
   "cell_type": "markdown",
   "id": "dietary-roberts",
   "metadata": {},
   "source": [
    "**Q 8:**\n",
    "\n",
    "Define a function named **odds_evens**.\n",
    "\n",
    "It will ask for a positive number from the user.\n",
    "\n",
    "Check if the input is an integer or not.\n",
    "\n",
    "Also check if the number is a positive number.\n",
    "\n",
    "Decide if the number is ODD or EVEN and print:\n",
    "* If the number is odd -> ODD\n",
    "* If the number is event and between 1 and 10 (both included) -> EVEN of TEN\n",
    "* If the number is even and between 11 and 20 (both included) -> EVEN of TWENTY\n",
    "* If the number is even and greater than 20 -> EVEN\n",
    "\n",
    "<pre>\n",
    "Expected Output:\n",
    "Please enter a number:  18\n",
    "EVEN of TWENTY\n",
    "</pre>"
   ]
  },
  {
   "cell_type": "code",
   "execution_count": 4,
   "id": "meaningful-southeast",
   "metadata": {},
   "outputs": [
    {
     "name": "stdin",
     "output_type": "stream",
     "text": [
      "Please enter a number:  30\n"
     ]
    },
    {
     "name": "stdout",
     "output_type": "stream",
     "text": [
      "EVEN\n"
     ]
    }
   ],
   "source": [
    "# Q 8:\n",
    "\n",
    "# --- your solution here --- #    \n",
    "def odds_evens():\n",
    "    number = int(input(\"Please enter a number: \"))\n",
    "    if number < 1:\n",
    "        print(\"number is not positive\")\n",
    "    elif type(number) != int:\n",
    "        print(\"input is not integer\")\n",
    "    elif number%2 == 1:\n",
    "        print(\"Number is ODD\")\n",
    "    elif number%2 == 0:\n",
    "        if number <= 10:\n",
    "            print(\"EVEN of TEN\")\n",
    "        elif number <= 20:\n",
    "            print(\"EVEN of TWENTY\")\n",
    "        else:\n",
    "            print(\"EVEN\")\n",
    "# call the function you defined\n",
    "odds_evens()"
   ]
  },
  {
   "cell_type": "markdown",
   "id": "unlike-tablet",
   "metadata": {},
   "source": [
    "---"
   ]
  },
  {
   "cell_type": "markdown",
   "id": "relative-caution",
   "metadata": {},
   "source": [
    "**Q 9:**\n",
    "\n",
    "**Sum of Odds and Evens:** \n",
    "* If the sum of two numbers is Odd then only one of these is Odd.\n",
    "* It the sum of two numbers is Even then both are Odd or both are Even.\n",
    "\n",
    "Define a function named **sum_of_odds_and_evens**.\n",
    "\n",
    "It will ask for two integers from the user.\n",
    "\n",
    "Then it will decide if the sum is Odd or Even.\n",
    "\n",
    "**Important Note:** Do not calculate the actual summation as x + y.\n",
    "\n",
    "<pre>\n",
    "Expected Output:\n",
    "First Number:  8\n",
    "Second Number:  3\n",
    "Sum is ODD\n",
    "</pre>"
   ]
  },
  {
   "cell_type": "code",
   "execution_count": 6,
   "id": "controlling-curve",
   "metadata": {},
   "outputs": [
    {
     "name": "stdin",
     "output_type": "stream",
     "text": [
      "First Number:  5\n",
      "Second Number:  8\n"
     ]
    },
    {
     "name": "stdout",
     "output_type": "stream",
     "text": [
      "Sum is ODD\n"
     ]
    }
   ],
   "source": [
    "# Q 9:\n",
    "\n",
    "# --- your solution here --- #    \n",
    "def sum_of_odds_and_evens():\n",
    "    num1 = int(input(\"First Number: \"))\n",
    "    num2 = int(input(\"Second Number: \"))\n",
    "    \n",
    "    if (num1 % 2 == 0 and num2 % 2 == 0) or (num1 % 2 != 0 and num2 % 2 != 0):\n",
    "        print(\"Sum is EVEN\")\n",
    "    else:\n",
    "        print(\"Sum is ODD\")\n",
    "\n",
    "# call the function you defined\n",
    "sum_of_odds_and_evens()"
   ]
  },
  {
   "cell_type": "markdown",
   "id": "intellectual-substance",
   "metadata": {},
   "source": [
    "---"
   ]
  }
 ],
 "metadata": {
  "kernelspec": {
   "display_name": "Python 3 (ipykernel)",
   "language": "python",
   "name": "python3"
  },
  "language_info": {
   "codemirror_mode": {
    "name": "ipython",
    "version": 3
   },
   "file_extension": ".py",
   "mimetype": "text/x-python",
   "name": "python",
   "nbconvert_exporter": "python",
   "pygments_lexer": "ipython3",
   "version": "3.10.4"
  },
  "vscode": {
   "interpreter": {
    "hash": "14cedd64601303a286e3a433b5cc0c98a360830fb2e1f085b21dfecee6e5bb02"
   }
  }
 },
 "nbformat": 4,
 "nbformat_minor": 5
}
